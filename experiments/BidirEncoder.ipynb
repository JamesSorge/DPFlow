{
 "cells": [
  {
   "cell_type": "code",
   "execution_count": null,
   "id": "458dd7c3",
   "metadata": {
    "vscode": {
     "languageId": "plaintext"
    }
   },
   "outputs": [],
   "source": [
    "import torch\n",
    "from torch import nn"
   ]
  },
  {
   "cell_type": "code",
   "execution_count": null,
   "id": "b2149417",
   "metadata": {
    "vscode": {
     "languageId": "plaintext"
    }
   },
   "outputs": [],
   "source": [
    "class BidirEncode(nn.Module):\n",
    "    def __init__(self):\n",
    "        super().__init__()\n",
    "\n",
    "        ### Conv Stem: takes the raw image as input and outputs X0 and H0 ###\n",
    "        self.conv_stem = nn.Sequential(\n",
    "            nn.Conv2d(3, hidden_channels[0], kernel_size=7, stride=2, padding=3),\n",
    "            nn.GroupNorm(num_groups, num_channels),\n",
    "            nn.ReLU(),\n",
    "            ## 2 ResidualBlocks to add (conv -> norm -> relu -> downsample) * 2\n",
    "            nn.Conv2d(hidden_channels[1], 2 * hidden_channels[2], kernel_size=1)\n",
    "        )\n",
    "        self.lower_stem = nn.Sequential(\n",
    "            nn.Conv2d(3, hidden_channels[0], kernel_size=7, stride=2, padding=3),\n",
    "            nn.GroupNorm(num_groups, num_channels),\n",
    "            nn.ReLU(),\n",
    "            ## 2 ResidualBlocks to add (conv -> norm -> relu -> downsample) * 2\n",
    "            nn.Conv2d(hidden_channels[1], hidden_channels[2], kernel_size=1)\n",
    "        )\n",
    "\n",
    "        ### Forward GRU ###\n",
    "        self.forward_gru = ConvGRUCell(hidden_channels[-1], hidden_channels[-1])\n",
    "        self.down_gru = nn.Conv2d(hidden_channels[-1], hidden_channels[-1], kernel_size=3, stride=2, padding=1, bias=True) # for passing Hf and Xf to the lower scale level\n",
    "\n",
    "        ### Backward GRU ###\n",
    "        self.backward_gru = ConvGRUCell(hidden_channels[-1], hidden_channels[-1])\n",
    "        self.up_gru = nn.Conv2d(hidden_channels[-1], hidden_channels[-1], kernel_size=3, stride=2, padding=1, bias=True) # for passing Hb and Xb to the higher scale level\n",
    "\n",
    "        ### Forward CGU ###\n",
    "        #TODO: forward cgu blocks\n",
    "        \n",
    "        ### Backward CGU ###\n",
    "        #TODO: backward cgu block\n",
    "        \n",
    "\n",
    "\n",
    "    def forward(self, x: torch.tensor, y: torch.tensor, pyr_levels: int):\n",
    "        \"\"\"\n",
    "        Takes two frames of image x and y as input. x and y will go through the same process separately.\n",
    "        @param x: a raw image\n",
    "        @param y: a raw image\n",
    "\n",
    "        @return: Two feature pyramids x_pyramid[::-1], y_pyramid[::-1] as the embeddings to pass to the decode\n",
    "        \"\"\"\n",
    "\n",
    "        x_pyramid = self.encode(x, pyr_levels)\n",
    "        y_pyramid = self.encode(y, pyr_levels)\n",
    "        return x_pyramid[::-1], y_pyramid[::-1]\n",
    "\n",
    "    \n",
    "    def encode(self, x, pyr_levels):\n",
    "        #TODO: Implement the dual-pyramid encoder block\n",
    "        pass\n",
    "        \n",
    "        "
   ]
  }
 ],
 "metadata": {
  "language_info": {
   "name": "python"
  }
 },
 "nbformat": 4,
 "nbformat_minor": 5
}
