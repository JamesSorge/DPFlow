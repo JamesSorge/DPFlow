{
 "cells": [
  {
   "cell_type": "markdown",
   "id": "28d1f170",
   "metadata": {},
   "source": [
    "# DPFlow Experiments"
   ]
  },
  {
   "cell_type": "code",
   "execution_count": 14,
   "id": "770fc90f",
   "metadata": {},
   "outputs": [
    {
     "name": "stdout",
     "output_type": "stream",
     "text": [
      "Using cuda device.\n"
     ]
    }
   ],
   "source": [
    "import torch\n",
    "import torch.nn as nn\n",
    "import torchvision\n",
    "import sys\n",
    "\n",
    "path_list = sys.path\n",
    "found_directories = False\n",
    "for path_variable in path_list:\n",
    "    if \"DPFlow\" in path_variable:\n",
    "        found_directories = True\n",
    "    else:\n",
    "        pass\n",
    "\n",
    "if not found_directories:\n",
    "    print(f\"Adding */DPFlow/architecture_files to sys.path\")\n",
    "    sys.path.append(\"/home/jsorge/private/final_project/DPFlow\")\n",
    "    print(f\"sys.path =\\n{sys.path}\")\n",
    "from architecture_files.cross_gated_unit import CrossGatedUnit\n",
    "\n",
    "# Set device to CUDA\n",
    "if torch.cuda.is_available():\n",
    "    device = torch.device('cuda')\n",
    "else:\n",
    "    device = torch.device('cpu')\n",
    "print(f\"Using {device} device.\")\n",
    "\n",
    "# Instantiate Cross-Gated-Unit for testing\n",
    "model = CrossGatedUnit()"
   ]
  },
  {
   "cell_type": "code",
   "execution_count": null,
   "id": "d17ddabe-bda3-4ead-8abe-66b17f93065e",
   "metadata": {},
   "outputs": [],
   "source": []
  }
 ],
 "metadata": {
  "kernelspec": {
   "display_name": "Python 3 (ipykernel)",
   "language": "python",
   "name": "python3"
  },
  "language_info": {
   "codemirror_mode": {
    "name": "ipython",
    "version": 3
   },
   "file_extension": ".py",
   "mimetype": "text/x-python",
   "name": "python",
   "nbconvert_exporter": "python",
   "pygments_lexer": "ipython3",
   "version": "3.11.9"
  }
 },
 "nbformat": 4,
 "nbformat_minor": 5
}
