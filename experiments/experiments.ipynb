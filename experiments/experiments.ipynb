{
 "cells": [
  {
   "cell_type": "markdown",
   "id": "28d1f170",
   "metadata": {},
   "source": [
    "# DPFlow Experiments"
   ]
  },
  {
   "cell_type": "code",
   "execution_count": 1,
   "id": "770fc90f",
   "metadata": {},
   "outputs": [
    {
     "name": "stdout",
     "output_type": "stream",
     "text": [
      "Adding */DPFlow/architecture_files to sys.path\n",
      "sys.path = \n",
      "\t/opt/conda/lib/python311.zip\n",
      "\t/opt/conda/lib/python3.11\n",
      "\t/opt/conda/lib/python3.11/lib-dynload\n",
      "\t\n",
      "\t/opt/conda/lib/python3.11/site-packages\n",
      "\t/home/jsorge/private/final_project/DPFlow\n",
      "Using cuda device.\n",
      "Shape1: torch.Size([3, 3, 256, 256])\n",
      "Shape2: torch.Size([3, 3, 256, 256])\n"
     ]
    }
   ],
   "source": [
    "import torch\n",
    "import torch.nn as nn\n",
    "import torchvision\n",
    "import sys\n",
    "\n",
    "path_list = sys.path\n",
    "found_directories = False\n",
    "for path_variable in path_list:\n",
    "    if \"DPFlow\" in path_variable:\n",
    "        found_directories = True\n",
    "    else:\n",
    "        pass\n",
    "\n",
    "if not found_directories:\n",
    "    print(f\"Adding */DPFlow/architecture_files to sys.path\")\n",
    "    sys.path.append(\"/home/jsorge/private/final_project/DPFlow\")\n",
    "    print(f\"sys.path = \")\n",
    "    for idx in range(len(sys.path)):\n",
    "        print(f\"\\t{sys.path[idx]}\") \n",
    "from architecture_files.cross_gated_unit import CrossGateBlock\n",
    "\n",
    "# Set device to CUDA\n",
    "if torch.cuda.is_available():\n",
    "    device = torch.device('cuda')\n",
    "else:\n",
    "    device = torch.device('cpu')\n",
    "print(f\"Using {device} device.\")\n",
    "\n",
    "# Random Data\n",
    "batch_dim = 3\n",
    "channel_in = 3\n",
    "channel_hidden = 64  # 64, 96, or 128\n",
    "height = 256\n",
    "width = 256\n",
    "rand_data1 = torch.rand((batch_dim, channel_in, height, width), device=device)\n",
    "rand_data2 = torch.rand((batch_dim, channel_in, height, width), device=device)\n",
    "\n",
    "# Instantiate Cross-Gated-Unit for testing\n",
    "model = CrossGateBlock(num_channels_in=channel_in, \n",
    "                       num_channels_hidden=channel_hidden, \n",
    "                       norm_type=\"batch_norm\", \n",
    "                       use_dropout=True, \n",
    "                       use_layer_scale=False)\n",
    "model.to(device)\n",
    "output1, output2 = model(rand_data1, rand_data2)\n",
    "print(f\"Shape1: {output1.shape}\")\n",
    "print(f\"Shape2: {output2.shape}\")"
   ]
  },
  {
   "cell_type": "code",
   "execution_count": null,
   "id": "d17ddabe-bda3-4ead-8abe-66b17f93065e",
   "metadata": {},
   "outputs": [],
   "source": [
    "# channels = 64\n",
    "# groups=8\n",
    "# dummy_data = torch.rand((3, channels, 56, 56), device=device\n",
    "# example = nn.Conv2d(in_channels=channels, out_channels=channels, kernel_size(3, 3), stride=2, padding=1, groups=groups, device=device)\n",
    "# example_data = "
   ]
  }
 ],
 "metadata": {
  "kernelspec": {
   "display_name": "Python 3 (ipykernel)",
   "language": "python",
   "name": "python3"
  },
  "language_info": {
   "codemirror_mode": {
    "name": "ipython",
    "version": 3
   },
   "file_extension": ".py",
   "mimetype": "text/x-python",
   "name": "python",
   "nbconvert_exporter": "python",
   "pygments_lexer": "ipython3",
   "version": "3.11.9"
  }
 },
 "nbformat": 4,
 "nbformat_minor": 5
}
