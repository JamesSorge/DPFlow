{
 "cells": [
  {
   "cell_type": "code",
   "execution_count": 1,
   "id": "8ced1b3b-0a02-43a8-8d99-e21d305b8618",
   "metadata": {},
   "outputs": [],
   "source": [
    "import torch\n",
    "from torch import nn"
   ]
  },
  {
   "cell_type": "code",
   "execution_count": 2,
   "id": "48106502-e3e7-40ab-97d6-c8199c8aa4de",
   "metadata": {},
   "outputs": [],
   "source": [
    "class ResidualBlock(nn.Module):\n",
    "    def __init__(self, in_channels, out_channels, stride):\n",
    "        super(ResidualBlock, self).__init__()\n",
    "        self.conv1 = nn.Conv2d(in_channels, out_channels, kernel_size=3, padding=1, stride=stride)\n",
    "        self.conv2 = nn.Conv2d(out_channels, out_channels, kernel_size=3, padding=1, stride=1)\n",
    "        self.norm = nn.BatchNorm2d(out_channels)\n",
    "        self.relu = nn.ReLU(inplace=True)\n",
    "\n",
    "        if stride == 1 and in_channels == out_channels:\n",
    "            self.downsample = None\n",
    "        else:\n",
    "            self.downsample = nn.Conv2d(in_channels, out_channels, kernel_size=1, stride=stride)\n",
    "\n",
    "    def forward(self, x):\n",
    "        tmpx = x\n",
    "        x = self.relu(self.norm(self.conv1(x)))\n",
    "        x = self.relu(self.norm(self.conv2(x)))\n",
    "\n",
    "        if self.downsample:\n",
    "            # There's always this downsample in this model\n",
    "            tmpx = self.downsample(tmpx)\n",
    "            tmpx = self.norm(tmpx)\n",
    "\n",
    "        return self.relu(x + tmpx)\n",
    "\n",
    "\n",
    "class ResStem(nn.Module):\n",
    "    def __init__(self, hidden_channels: list[int]):\n",
    "        \"\"\"\n",
    "        This takes hidden_channels, e.g. [64, 96, 128] from DPFlow\n",
    "        \"\"\"\n",
    "        super(ResStem, self).__init__()\n",
    "        self.relu = nn.ReLU(inplace=True)\n",
    "        self.conv1 = nn.Conv2d(3, hidden_channels[0], kernel_size=7, stride=2, padding=3) # half the width and hight\n",
    "        self.norm1 = nn.BatchNorm2d(hidden_channels[0]) # use BatchNorm2d for now (DPFlow use GroupNorm)\n",
    "        self.res1 = nn.Sequential(ResidualBlock(hidden_channels[0], hidden_channels[0], stride=1),\n",
    "                                  ResidualBlock(hidden_channels[0], hidden_channels[0], stride=1))\n",
    "\n",
    "        self.res2 = nn.Sequential(ResidualBlock(hidden_channels[0], hidden_channels[1], stride=2),\n",
    "                                  ResidualBlock(hidden_channels[1], hidden_channels[1], stride=1))\n",
    "\n",
    "        self.conv2 = nn.Conv2d(hidden_channels[1], hidden_channels[2], kernel_size=1) # only change channel size\n",
    "        \n",
    "        \n",
    "\n",
    "    def forward(self, x):\n",
    "        \"\"\"\n",
    "        x: the image\n",
    "        output: tensor with channels of the hidden_channels[2], e.g. 128\n",
    "        \"\"\"\n",
    "        x = self.conv1(x)\n",
    "        x = self.norm1(x)\n",
    "        x = self.relu(x)\n",
    "\n",
    "        x = self.res1(x)\n",
    "        x = self.res2(x)\n",
    "\n",
    "        x = self.conv2(x)\n",
    "\n",
    "        return x\n",
    "        "
   ]
  },
  {
   "cell_type": "code",
   "execution_count": 5,
   "id": "8f75d3bc-f164-4b7c-a906-1f51d2d9e0bc",
   "metadata": {},
   "outputs": [],
   "source": [
    "hidden_channels = [64, 96, 128]\n",
    "stem = ResStem([hidden_channels[0], hidden_channels[1], 2*hidden_channels[2]])"
   ]
  },
  {
   "cell_type": "code",
   "execution_count": 6,
   "id": "ecf6d2f1-bf49-48f7-9d57-65182b3b351e",
   "metadata": {},
   "outputs": [
    {
     "data": {
      "text/plain": [
       "torch.Size([64, 256, 64, 64])"
      ]
     },
     "execution_count": 6,
     "metadata": {},
     "output_type": "execute_result"
    }
   ],
   "source": [
    "dummy_data = torch.randn((64, 3, 256, 256))\n",
    "x = stem(dummy_data) # The height, width will become 1/4\n",
    "x.shape"
   ]
  },
  {
   "cell_type": "code",
   "execution_count": null,
   "id": "b914958d-8cae-4a92-b5b7-b888c06ffa5e",
   "metadata": {},
   "outputs": [],
   "source": []
  }
 ],
 "metadata": {
  "kernelspec": {
   "display_name": "Python 3 (ipykernel)",
   "language": "python",
   "name": "python3"
  },
  "language_info": {
   "codemirror_mode": {
    "name": "ipython",
    "version": 3
   },
   "file_extension": ".py",
   "mimetype": "text/x-python",
   "name": "python",
   "nbconvert_exporter": "python",
   "pygments_lexer": "ipython3",
   "version": "3.11.9"
  }
 },
 "nbformat": 4,
 "nbformat_minor": 5
}
