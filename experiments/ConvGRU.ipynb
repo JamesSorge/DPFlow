{
 "cells": [
  {
   "cell_type": "code",
   "execution_count": 1,
   "id": "51aa2506",
   "metadata": {
    "vscode": {
     "languageId": "plaintext"
    }
   },
   "outputs": [],
   "source": [
    "import torch\n",
    "from torch import nn"
   ]
  },
  {
   "cell_type": "markdown",
   "id": "f560d014",
   "metadata": {},
   "source": [
    "## GRU-RCN\n",
    "GRU-RCN is from this paper: https://arxiv.org/pdf/1511.06432\n",
    "\n",
    "\"Model parameters $W, W^{l}_z, W^{l}_r$ and $U, U^{l}_z, U^{l}_r$ are 2d-convolutional kernels. Our model results in hidden recurrent representation that preverves the spatial topoloy, $h_t^{l} = (h_t^{l}(i,j))$ where $(h_t^{l}(i,j)$ is a feature vector defined at the location $(i,j)$. To ensure that the spatial size of the hidden representation remains fixed over time, we use zero-padding in the recurrent convolutions.\"\n",
    "\n",
    "\"Using convolution, parameters $W, W^{l}_z, W^{l}_r$ have a size of $k_1 \\times k_2 \\times O_x \\times O_h$ where $k_1 \\times k_2$ is the convolutional kernel size (usually $3 \\times 3$).\"\n",
    "\n",
    "The DPFlow seems to only use ConvGRUCell as the forward and backward GRU"
   ]
  },
  {
   "cell_type": "code",
   "execution_count": 2,
   "id": "e107ce0d",
   "metadata": {
    "vscode": {
     "languageId": "plaintext"
    }
   },
   "outputs": [],
   "source": [
    "class ConvGRUCell(nn.Module):\n",
    "    def __init__(self, input_channel, hidden_channel):\n",
    "        \"\"\"\n",
    "        A GRU-RNC cell.\n",
    "        \n",
    "        @type  input_channel: integer\n",
    "        @param input_channel: number of input channels\n",
    "        @type  hidden_channel: integer\n",
    "        @param hidden_channel: number of the hidden channels \n",
    "        \"\"\"\n",
    "        super(ConvGRUCell, self).__init__()\n",
    "        self.conv_Wz = nn.Conv2d(input_channel, hidden_channel, kernel_size=3, padding=1)\n",
    "        self.conv_Uz = nn.Conv2d(hidden_channel, hidden_channel, kernel_size=3, padding=1)\n",
    "        self.conv_Wr = nn.Conv2d(input_channel, hidden_channel, kernel_size=3, padding=1)\n",
    "        self.conv_Ur = nn.Conv2d(hidden_channel, hidden_channel, kernel_size=3, padding=1)\n",
    "        self.conv_W = nn.Conv2d(input_channel, hidden_channel, kernel_size=3, padding=1)\n",
    "        self.conv_U = nn.Conv2d(hidden_channel, hidden_channel, kernel_size=3, padding=1)\n",
    "        self.sigmoid = nn.Sigmoid()\n",
    "    \n",
    "    def forward(self, x: torch.tensor, h_prev: torch.tensor):\n",
    "        \"\"\"\n",
    "        @rtype:   torch.tensor\n",
    "        @return:  hidden representation of this ConvGRU cell with shape (batch, channel, height, width)\n",
    "        \"\"\"\n",
    "        z = self.sigmoid(self.conv_Wz(x) + self.conv_Uz(h_prev))\n",
    "        r = self.sigmoid(self.conv_Wr(x) + self.conv_Ur(h_prev))\n",
    "        h_hat = torch.tanh(self.conv_W(x) + self.conv_U(r*h_prev))\n",
    "\n",
    "        h = ((1-z) * h_prev) + (z * h_hat)\n",
    "        return h"
   ]
  },
  {
   "cell_type": "code",
   "execution_count": 18,
   "id": "04bcc92a",
   "metadata": {
    "vscode": {
     "languageId": "plaintext"
    }
   },
   "outputs": [],
   "source": [
    "# We need to specify the size of the hidden representation\n",
    "batch_size = 32\n",
    "hidden_channel = 64\n",
    "hidden_height, hidden_width = 32, 32\n",
    "\n",
    "# dummy data\n",
    "x = torch.randn((batch_size, 3, 32, 32));\n",
    "h0 = torch.zeros((batch_size, hidden_channel, hidden_height, hidden_width));"
   ]
  },
  {
   "cell_type": "code",
   "execution_count": 19,
   "id": "9fff3031",
   "metadata": {
    "vscode": {
     "languageId": "plaintext"
    }
   },
   "outputs": [
    {
     "data": {
      "text/plain": [
       "torch.Size([32, 64, 32, 32])"
      ]
     },
     "execution_count": 19,
     "metadata": {},
     "output_type": "execute_result"
    }
   ],
   "source": [
    "convGRUCell = ConvGRUCell(3, hidden_channel)\n",
    "h = convGRUCell(x, h0)\n",
    "h.shape"
   ]
  },
  {
   "cell_type": "code",
   "execution_count": null,
   "id": "7dcd7458-aba8-46f9-a59b-5c7dc3a1ffa5",
   "metadata": {},
   "outputs": [],
   "source": []
  }
 ],
 "metadata": {
  "kernelspec": {
   "display_name": "Python 3 (ipykernel)",
   "language": "python",
   "name": "python3"
  },
  "language_info": {
   "codemirror_mode": {
    "name": "ipython",
    "version": 3
   },
   "file_extension": ".py",
   "mimetype": "text/x-python",
   "name": "python",
   "nbconvert_exporter": "python",
   "pygments_lexer": "ipython3",
   "version": "3.11.9"
  }
 },
 "nbformat": 4,
 "nbformat_minor": 5
}
